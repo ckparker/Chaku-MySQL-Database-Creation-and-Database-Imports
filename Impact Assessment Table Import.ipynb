{
 "cells": [
  {
   "cell_type": "code",
   "execution_count": 5,
   "id": "a1054f7d-d75c-4e97-b589-ec61994f5e2c",
   "metadata": {},
   "outputs": [
    {
     "name": "stdout",
     "output_type": "stream",
     "text": [
      "Data imported successfully!\n",
      "MySQL connection closed.\n"
     ]
    }
   ],
   "source": [
    "import pandas as pd\n",
    "import mysql.connector\n",
    "from mysql.connector import Error\n",
    "\n",
    "# Step 1: Read the Excel file\n",
    "file_path = r\"C:\\Users\\CHAKU FOODS\\Documents\\Data Collection Cleaning\\Impact Assessment.xlsx\"  # Replace with the correct path\n",
    "data = pd.read_excel(file_path)\n",
    "\n",
    "# Ensure the column names in the Excel file match the database table structure\n",
    "# For example, check if columns are ['last_name', 'first_name', 'disability', 'farming_income_type', 'primary_income_source', 'post_harvest_loss_percent']\n",
    "\n",
    "# Step 2: Establish connection to the MySQL database\n",
    "try:\n",
    "    connection = mysql.connector.connect(\n",
    "        host='localhost',  # Change to your host\n",
    "        user='root',  # Replace with your MySQL username\n",
    "        password='KpakpoParker700!',  # Replace with your MySQL password\n",
    "        database='chaku_foods'  # Replace with your database name\n",
    "    )\n",
    "\n",
    "    if connection.is_connected():\n",
    "        cursor = connection.cursor(dictionary=True)\n",
    "\n",
    "        # Step 3: Retrieve farmer IDs based on last_name and first_name\n",
    "        for index, row in data.iterrows():\n",
    "            last_name = row['last_name']\n",
    "            first_name = row['first_name']\n",
    "\n",
    "            # Query to get farmer_id\n",
    "            cursor.execute(\n",
    "                \"\"\"\n",
    "                SELECT farmer_id FROM farmer WHERE last_name = %s AND first_name = %s\n",
    "                \"\"\", (last_name, first_name)\n",
    "            )\n",
    "            result = cursor.fetchone()\n",
    "\n",
    "            if result:\n",
    "                farmer_id = result['farmer_id']\n",
    "\n",
    "                # Step 4: Prepare the insert statement\n",
    "                insert_query = \"\"\"\n",
    "                INSERT INTO impact_assessment (\n",
    "                    farmer_id, disability, farming_income_type, primary_income_source, post_harvest_loss_percent\n",
    "                ) VALUES (%s, %s, %s, %s, %s)\n",
    "                \"\"\"\n",
    "\n",
    "                cursor.execute(\n",
    "                    insert_query,\n",
    "                    (\n",
    "                        farmer_id,\n",
    "                        row['disability'] if pd.notna(row['disability']) else None,\n",
    "                        row['farming_income_type'] if pd.notna(row['farming_income_type']) else None,\n",
    "                        row['primary_income_source'] if pd.notna(row['primary_income_source']) else None,\n",
    "                        row['post_harvest_loss_percent'] if pd.notna(row['post_harvest_loss_percent']) else None\n",
    "                    )\n",
    "                )\n",
    "\n",
    "        # Step 5: Commit the transaction\n",
    "        connection.commit()\n",
    "        print(\"Data imported successfully!\")\n",
    "\n",
    "except Error as e:\n",
    "    print(f\"Error: {e}\")\n",
    "\n",
    "finally:\n",
    "    # Step 6: Close the connection\n",
    "    if connection.is_connected():\n",
    "        cursor.close()\n",
    "        connection.close()\n",
    "        print(\"MySQL connection closed.\")\n"
   ]
  },
  {
   "cell_type": "code",
   "execution_count": null,
   "id": "6c01e699-ba7b-4c24-bba6-bdb3404653bc",
   "metadata": {},
   "outputs": [],
   "source": []
  }
 ],
 "metadata": {
  "kernelspec": {
   "display_name": "Python 3 (ipykernel)",
   "language": "python",
   "name": "python3"
  },
  "language_info": {
   "codemirror_mode": {
    "name": "ipython",
    "version": 3
   },
   "file_extension": ".py",
   "mimetype": "text/x-python",
   "name": "python",
   "nbconvert_exporter": "python",
   "pygments_lexer": "ipython3",
   "version": "3.12.7"
  }
 },
 "nbformat": 4,
 "nbformat_minor": 5
}
