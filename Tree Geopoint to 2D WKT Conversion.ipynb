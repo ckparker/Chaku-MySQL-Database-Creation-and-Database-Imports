{
 "cells": [
  {
   "cell_type": "code",
   "execution_count": null,
   "id": "bc24fcf4-ee43-4312-af4a-309563c09361",
   "metadata": {},
   "outputs": [],
   "source": [
    "import pandas as pd\n",
    "\n",
    "# Load the Excel file\n",
    "#In the excel sheet, copy and paste the tree_geopoint column into a new book and use that for this script\n",
    "data_file = r\"file_path\"\n",
    "\n",
    "# Read the Excel file into a DataFrame\n",
    "data = pd.read_excel(data_file)\n",
    "\n",
    "# Check the first few rows to understand the structure of the data\n",
    "print(data.head())\n",
    "\n",
    "# Define a function to convert coordinates to 2D WKT format\n",
    "def convert_to_wkt(coord):\n",
    "    \"\"\"\n",
    "    Converts a single string of coordinates into 2D WKT Point format.\n",
    "    Assumes the format: latitude longitude altitude precision.\n",
    "    \"\"\"\n",
    "    # Split the coordinate string into components\n",
    "    parts = coord.split()\n",
    "    latitude = parts[0]\n",
    "    longitude = parts[1]\n",
    "\n",
    "    # WKT format for a 2D point\n",
    "    wkt = f\"POINT ({longitude} {latitude})\"\n",
    "\n",
    "    return wkt\n",
    "\n",
    "# Apply the conversion function to each row\n",
    "data['WKT'] = data['tree_geopoint'].apply(convert_to_wkt)\n",
    "\n",
    "# Save the DataFrame with the new WKT column to a new Excel file\n",
    "output_file = r\"C:\\Users\\CHAKU FOODS\\Documents\\GD_Geopoints_2D_WKT.xlsx\"\n",
    "data.to_excel(output_file, index=False)\n",
    "\n",
    "print(f\"Converted data saved to {output_file}\")\n"
   ]
  },
  {
   "cell_type": "code",
   "execution_count": null,
   "id": "ac00b455-eef5-46bf-b425-f978132216e0",
   "metadata": {},
   "outputs": [],
   "source": []
  }
 ],
 "metadata": {
  "kernelspec": {
   "display_name": "Python 3 (ipykernel)",
   "language": "python",
   "name": "python3"
  },
  "language_info": {
   "codemirror_mode": {
    "name": "ipython",
    "version": 3
   },
   "file_extension": ".py",
   "mimetype": "text/x-python",
   "name": "python",
   "nbconvert_exporter": "python",
   "pygments_lexer": "ipython3",
   "version": "3.12.7"
  }
 },
 "nbformat": 4,
 "nbformat_minor": 5
}
