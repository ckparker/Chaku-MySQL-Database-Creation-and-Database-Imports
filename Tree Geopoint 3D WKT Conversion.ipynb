{
 "cells": [
  {
   "cell_type": "code",
   "execution_count": 1,
   "id": "e75375b2-519b-48de-9918-8e7467708ab7",
   "metadata": {},
   "outputs": [
    {
     "name": "stdout",
     "output_type": "stream",
     "text": [
      "                     tree_geopoint\n",
      "0  6.0897409 -0.0257676 133.0 4.82\n",
      "1   6.0897567 -0.0257383 130.4 4.1\n",
      "2   6.0897475 -0.0257383 130.4 4.1\n",
      "3     6.08973 -0.0257367 130.5 4.7\n",
      "4   6.0897063 -0.0257916 130.4 4.9\n",
      "Converted data saved to C:\\Users\\CHAKU FOODS\\Documents\\Geopoints_WKT.xlsx\n"
     ]
    }
   ],
   "source": [
    "import pandas as pd\n",
    "\n",
    "# Load the Excel file\n",
    "data_file = r\"C:\\Users\\CHAKU FOODS\\Documents\\Geopoints.xlsx\" # replace with your own file path\n",
    "\n",
    "# Read the Excel file into a DataFrame\n",
    "data = pd.read_excel(data_file)\n",
    "\n",
    "# Check the first few rows to understand the structure of the data\n",
    "print(data.head())\n",
    "\n",
    "# Define a function to convert coordinates to WKT format\n",
    "def convert_to_wkt(coord):\n",
    "    \"\"\"\n",
    "    Converts a single string of coordinates into WKT Point format.\n",
    "    Assumes the format: latitude longitude altitude precision.\n",
    "    \"\"\"\n",
    "    # Split the coordinate string into components\n",
    "    parts = coord.split()\n",
    "    latitude = parts[0]\n",
    "    longitude = parts[1]\n",
    "    altitude = parts[2] if len(parts) > 2 else None  # Optional altitude\n",
    "\n",
    "    # WKT format for a point (altitude is optional)\n",
    "    if altitude:\n",
    "        wkt = f\"POINT Z ({longitude} {latitude} {altitude})\"  # 3D point\n",
    "    else:\n",
    "        wkt = f\"POINT ({longitude} {latitude})\"  # 2D point\n",
    "\n",
    "    return wkt\n",
    "\n",
    "# Apply the conversion function to each row\n",
    "data['WKT'] = data['tree_geopoint'].apply(convert_to_wkt)\n",
    "\n",
    "# Save the DataFrame with the new WKT column to a new Excel file\n",
    "output_file = r\"C:\\Users\\CHAKU FOODS\\Documents\\Geopoints_WKT.xlsx\"\n",
    "data.to_excel(output_file, index=False)\n",
    "\n",
    "print(f\"Converted data saved to {output_file}\")\n"
   ]
  },
  {
   "cell_type": "code",
   "execution_count": null,
   "id": "e73533c3-1d03-4961-91e5-202e849ccb5a",
   "metadata": {},
   "outputs": [],
   "source": []
  }
 ],
 "metadata": {
  "kernelspec": {
   "display_name": "Python 3 (ipykernel)",
   "language": "python",
   "name": "python3"
  },
  "language_info": {
   "codemirror_mode": {
    "name": "ipython",
    "version": 3
   },
   "file_extension": ".py",
   "mimetype": "text/x-python",
   "name": "python",
   "nbconvert_exporter": "python",
   "pygments_lexer": "ipython3",
   "version": "3.12.7"
  }
 },
 "nbformat": 4,
 "nbformat_minor": 5
}
