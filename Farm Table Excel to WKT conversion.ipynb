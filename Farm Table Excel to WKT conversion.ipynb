{
 "cells": [
  {
   "cell_type": "code",
   "execution_count": null,
   "id": "5abec692-020e-4e80-b6fd-91bb1d4fff71",
   "metadata": {},
   "outputs": [],
   "source": [
    "!pip install shapely"
   ]
  },
  {
   "cell_type": "code",
   "execution_count": null,
   "id": "cbbe89b6-ea6a-4227-95a4-426b1b58c264",
   "metadata": {},
   "outputs": [],
   "source": [
    "import pandas as pd\n",
    "\n",
    "# Load the Excel file\n",
    "def load_data(file_path):\n",
    "    return pd.read_excel(file_path, sheet_name='farm')\n",
    "\n",
    "# Function to convert geo_coordinates to WKT POINT\n",
    "def convert_to_point(coordinates):\n",
    "    try:\n",
    "        lat, lon, *_ = map(float, coordinates.split())\n",
    "        return f\"POINT({lat} {lon})\"\n",
    "    except ValueError:\n",
    "        return None\n",
    "\n",
    "# Function to convert geo_boundaries to WKT POLYGON\n",
    "def convert_to_polygon(boundaries):\n",
    "    try:\n",
    "        points = [\n",
    "            \" \".join(coord.split()[:2])  # Take latitude and longitude only\n",
    "            for coord in boundaries.split(\";\")\n",
    "        ]\n",
    "        return f\"POLYGON(({', '.join(points)}))\"\n",
    "    except ValueError:\n",
    "        return None\n",
    "\n",
    "# Main processing function\n",
    "def process_data(input_file, output_file):\n",
    "    # Load the data\n",
    "    df_farm = load_data(input_file)\n",
    "\n",
    "    # Apply conversions to WKT\n",
    "    df_farm['geo_coordinates_wkt'] = df_farm['geo_coordinates'].apply(convert_to_point)\n",
    "    df_farm['geo_boundaries_wkt'] = df_farm['geo_boundaries'].apply(convert_to_polygon)\n",
    "\n",
    "    # Save the resulting DataFrame to a CSV file\n",
    "    df_farm.to_csv(output_file, index=False)\n",
    "\n",
    "    # Print success message\n",
    "    print(\"File converted successfully\")\n",
    "\n",
    "# Define file paths\n",
    "input_file = r\"file_path\"\n",
    "output_file = r\"file_path\"\n",
    "\n",
    "# Run the processing function\n",
    "process_data(input_file, output_file)\n"
   ]
  },
  {
   "cell_type": "code",
   "execution_count": null,
   "id": "ac494065-0ecb-4e95-8d6c-ea3a3b27d9ee",
   "metadata": {},
   "outputs": [],
   "source": []
  }
 ],
 "metadata": {
  "kernelspec": {
   "display_name": "Python 3 (ipykernel)",
   "language": "python",
   "name": "python3"
  },
  "language_info": {
   "codemirror_mode": {
    "name": "ipython",
    "version": 3
   },
   "file_extension": ".py",
   "mimetype": "text/x-python",
   "name": "python",
   "nbconvert_exporter": "python",
   "pygments_lexer": "ipython3",
   "version": "3.12.7"
  }
 },
 "nbformat": 4,
 "nbformat_minor": 5
}
