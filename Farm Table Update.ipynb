{
 "cells": [
  {
   "cell_type": "code",
   "execution_count": 1,
   "id": "8d471b4a-d1ff-4207-8108-794eb1138cf0",
   "metadata": {},
   "outputs": [
    {
     "name": "stdout",
     "output_type": "stream",
     "text": [
      "Farm table updated successfully.\n"
     ]
    }
   ],
   "source": [
    "import pandas as pd\n",
    "import mysql.connector\n",
    "\n",
    "# Step 1: Load the Excel data\n",
    "file_path = r\"C:\\Users\\CHAKU FOODS\\Documents\\Farm Table WKT.xlsx\"\n",
    "data = pd.read_excel(file_path)\n",
    "\n",
    "# Step 2: Establish connection to the MySQL database\n",
    "try:\n",
    "    conn = mysql.connector.connect(\n",
    "        host='localhost',  # Change as necessary\n",
    "        user='root',  # Replace with your MySQL username\n",
    "        password='KpakpoParker700!',  # Replace with your MySQL password\n",
    "        database='chaku_foods'  # Replace with your database name\n",
    "    )\n",
    "    cursor = conn.cursor()\n",
    "except mysql.connector.Error as err:\n",
    "    print(f\"Error: {err}\")\n",
    "    exit(1)\n",
    "\n",
    "# Step 3: Iterate through the Excel data and update the MySQL farm table\n",
    "for index, row in data.iterrows():\n",
    "    try:\n",
    "        # Extracting relevant data\n",
    "        last_name = row['last_name']\n",
    "        first_name = row['first_name']\n",
    "        farm_number = row['farm_number']\n",
    "        geo_coordinates = row['geo_coordinates']  # Should be in WKT format (e.g., 'POINT(lon lat)')\n",
    "        geo_boundaries = row['geo_boundaries']    # Should be in WKT format (e.g., 'POLYGON((x1 y1, x2 y2, ...))')\n",
    "\n",
    "        # Fetching farmer_id using last_name and first_name\n",
    "        cursor.execute(\n",
    "            \"\"\"\n",
    "            SELECT farmer_id FROM farmer WHERE last_name = %s AND first_name = %s\n",
    "            \"\"\",\n",
    "            (last_name, first_name)\n",
    "        )\n",
    "        farmer_result = cursor.fetchone()\n",
    "\n",
    "        if farmer_result:\n",
    "            farmer_id = farmer_result[0]\n",
    "\n",
    "            # Fetching farm_id using farmer_id and farm_number\n",
    "            cursor.execute(\n",
    "                \"\"\"\n",
    "                SELECT farm_id FROM farm WHERE farmer_id = %s AND farm_number = %s\n",
    "                \"\"\",\n",
    "                (farmer_id, farm_number)\n",
    "            )\n",
    "            farm_result = cursor.fetchone()\n",
    "\n",
    "            if farm_result:\n",
    "                farm_id = farm_result[0]\n",
    "\n",
    "                # Updating the geo_coordinates and geo_boundaries columns in the farm table\n",
    "                update_query = \"\"\"\n",
    "                    UPDATE farm \n",
    "                    SET geo_coordinates = ST_GeomFromText(%s), geo_boundaries = ST_GeomFromText(%s)\n",
    "                    WHERE farm_id = %s\n",
    "                \"\"\"\n",
    "                cursor.execute(update_query, (geo_coordinates, geo_boundaries, farm_id))\n",
    "        \n",
    "    except mysql.connector.Error as err:\n",
    "        print(f\"Error updating record at row {index}: {err}\")\n",
    "\n",
    "# Step 4: Commit the changes and close the connection\n",
    "conn.commit()\n",
    "cursor.close()\n",
    "conn.close()\n",
    "\n",
    "print(\"Farm table updated successfully.\")\n"
   ]
  },
  {
   "cell_type": "code",
   "execution_count": null,
   "id": "83748911-b78e-4413-b5e7-9fb9816e6a70",
   "metadata": {},
   "outputs": [],
   "source": []
  }
 ],
 "metadata": {
  "kernelspec": {
   "display_name": "Python 3 (ipykernel)",
   "language": "python",
   "name": "python3"
  },
  "language_info": {
   "codemirror_mode": {
    "name": "ipython",
    "version": 3
   },
   "file_extension": ".py",
   "mimetype": "text/x-python",
   "name": "python",
   "nbconvert_exporter": "python",
   "pygments_lexer": "ipython3",
   "version": "3.12.7"
  }
 },
 "nbformat": 4,
 "nbformat_minor": 5
}
