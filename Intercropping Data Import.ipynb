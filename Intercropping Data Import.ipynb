{
 "cells": [
  {
   "cell_type": "code",
   "execution_count": null,
   "id": "7cf6183a-7dad-46b3-bbd6-f7d6ee565993",
   "metadata": {},
   "outputs": [],
   "source": [
    "import pandas as pd\n",
    "import mysql.connector\n",
    "\n",
    "# Load the Excel file\n",
    "file_path = r\"file_path\"\n",
    "sheet_data = pd.read_excel(file_path, sheet_name='intercropped_crops')\n",
    "\n",
    "# Connect to MySQL database\n",
    "db_connection = mysql.connector.connect(\n",
    "    host='localhost',  # Replace with your host (e.g., 'localhost')\n",
    "    user='root',  # Replace with your MySQL username\n",
    "    password='*****',  # Replace with your MySQL password\n",
    "    database='*****'  # Replace with your database name\n",
    ")\n",
    "\n",
    "cursor = db_connection.cursor()\n",
    "\n",
    "# Iterate through each row of the Excel data\n",
    "for index, row in sheet_data.iterrows():\n",
    "    last_name = row['last_name']\n",
    "    first_name = row['first_name']\n",
    "    intercropped_crops = row['intercropped_crops'] if pd.notnull(row['intercropped_crops']) else None\n",
    "\n",
    "    # Step 1: Get farmer_id using last_name and first_name\n",
    "    cursor.execute(\"\"\"\n",
    "        SELECT farmer_id FROM farmer \n",
    "        WHERE last_name = %s AND first_name = %s\n",
    "    \"\"\", (last_name, first_name))\n",
    "\n",
    "    result = cursor.fetchone()\n",
    "\n",
    "    if result:\n",
    "        farmer_id = result[0]\n",
    "\n",
    "        # Step 2: Insert data into intercropping_data\n",
    "        cursor.execute(\"\"\"\n",
    "            INSERT INTO intercropping_data (farmer_id, intercropped_crops)\n",
    "            VALUES (%s, %s)\n",
    "        \"\"\", (farmer_id, intercropped_crops))\n",
    "    else:\n",
    "        print(f\"No match found for {first_name} {last_name}. Skipping row {index + 1}.\")\n",
    "\n",
    "# Commit the changes and close the connection\n",
    "db_connection.commit()\n",
    "cursor.close()\n",
    "db_connection.close()\n",
    "\n",
    "print(\"Data import completed.\")\n"
   ]
  },
  {
   "cell_type": "code",
   "execution_count": null,
   "id": "b31da7f0-c065-4e27-abaf-9d009382e232",
   "metadata": {},
   "outputs": [],
   "source": []
  }
 ],
 "metadata": {
  "kernelspec": {
   "display_name": "Python 3 (ipykernel)",
   "language": "python",
   "name": "python3"
  },
  "language_info": {
   "codemirror_mode": {
    "name": "ipython",
    "version": 3
   },
   "file_extension": ".py",
   "mimetype": "text/x-python",
   "name": "python",
   "nbconvert_exporter": "python",
   "pygments_lexer": "ipython3",
   "version": "3.12.7"
  }
 },
 "nbformat": 4,
 "nbformat_minor": 5
}
